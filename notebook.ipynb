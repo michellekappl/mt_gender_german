{
  "cells": [
    {
      "cell_type": "code",
      "execution_count": 1,
      "metadata": {
        "id": "rEErf7Hd8LDn"
      },
      "outputs": [
        {
          "name": "stdout",
          "output_type": "stream",
          "text": [
            "fatal: destination path 'fast_align' already exists and is not an empty directory.\n"
          ]
        }
      ],
      "source": [
        "import os\n",
        "\n",
        "root_dir = 'PATH_ROOT/bachelorarbeit'\n",
        "gender_bias_dir = root_dir + '/mt_gender_german'\n",
        "\n",
        "os.chdir(root_dir)\n",
        "# Auto install the required git repositories:\n",
        "# fast_align module required in the evaluations\n",
        "!git clone https://github.com/clab/fast_align.git\n",
        "\n",
        "fast_align_dir = root_dir + '/fast_align';"
      ]
    },
    {
      "cell_type": "code",
      "execution_count": null,
      "metadata": {
        "id": "slULddpK9y6x"
      },
      "outputs": [],
      "source": [
        "# List the contents of both projects to see if it worked.\n",
        "print(gender_bias_dir, fast_align_dir)\n",
        "!ls {gender_bias_dir} -al\n",
        "!ls {fast_align_dir} -al"
      ]
    },
    {
      "cell_type": "markdown",
      "metadata": {
        "id": "pWgBHvuKWtu-"
      },
      "source": [
        "# Functions"
      ]
    },
    {
      "cell_type": "code",
      "execution_count": 2,
      "metadata": {
        "id": "xF0EMN4CSPNl"
      },
      "outputs": [],
      "source": [
        "import os\n",
        "import time\n",
        "from IPython import get_ipython\n",
        "ipython = get_ipython()\n",
        "\n",
        "def evaluate_language(source, stereotype, destination, translator):\n",
        "  \"\"\" Run a bash evaluation script from the repo to determine gender bias in the source file compared to the destination.\n",
        "\n",
        "  For example evaluating 'en to 'es' with translator 'google' looks like:\n",
        "  1. It translates the input file first if it does not exist yet, which creates /translations/google/en-es.txt.\n",
        "  2. It then tries to align the translated file using fast_align, which creates /src/forward/en-es.align. I believe the alignment process\n",
        "  is about mapping words from one language to another.\n",
        "  3. The alignments are evaluated, and the output is stored in /output/en-es.txt.\n",
        "\n",
        "  :param str source: The input, which is a language file from the /data/aggregates folder, e.g. use \"en\" for the \"en.txt\" file.\n",
        "  :param str destination: A language file from the /data/aggregates folder, e.g. use \"en\" for the \"en.txt\" file.\n",
        "  :param str translator: One of \"google\", \"bing\", \"aws\", \"sota\", \"systran\".\n",
        "  \"\"\"\n",
        "\n",
        "  timestamp = time.strftime(\"%Y%m%d-%H%M%S\");\n",
        "\n",
        "  # Define the source file to be a txt file in the aggregates folder.\n",
        "  source_file = '/data/aggregates/' + source + '.txt';\n",
        "  # Define the output file to be in the \"output\" directory in the root of the GenderBias project.\n",
        "  os.chdir(gender_bias_dir)\n",
        "  exec(ipython.transform_cell('!mkdir -p output'))\n",
        "  os.chdir(gender_bias_dir + '/output')\n",
        "  exec(ipython.transform_cell('!mkdir -p ' + translator))\n",
        "  os.chdir(gender_bias_dir + '/output/' + translator)\n",
        "  exec(ipython.transform_cell('!mkdir -p ' + destination))\n",
        "  os.chdir(gender_bias_dir + '/output/' + translator + '/' + destination)\n",
        "  exec(ipython.transform_cell('!mkdir -p ' + source))\n",
        "\n",
        "\n",
        "  output_file = '../output/' + translator + '/' + destination + '/' +  source + '/' + timestamp + '.txt'\n",
        "\n",
        "  os.chdir(gender_bias_dir + '/src')\n",
        "\n",
        "  # Execute script from the repo.\n",
        "  exec(ipython.transform_cell('!../scripts/evaluate_language.sh {gender_bias_dir}{source_file} {stereotype} {destination} {translator} > {output_file}'))\n",
        "\n",
        "\n",
        "  print('Output file: ' + gender_bias_dir + '/src/' + output_file);\n",
        "  pass"
      ]
    },
    {
      "cell_type": "markdown",
      "metadata": {
        "id": "Yyn_SdhChDnW"
      },
      "source": [
        "## Setup API keys\n",
        "If you are going to evaluate a language pair that has no translations yet (like `/translations/google/en-es.txt` etc), you need to add an API key for the given service. \n",
        "\n",
        "After a translation task, the output is automatically saved in the project folder so it does not need to be ran again (unless you remove it)."
      ]
    },
    {
      "cell_type": "code",
      "execution_count": null,
      "metadata": {
        "id": "oCVxaPBya6cE"
      },
      "outputs": [],
      "source": [
        "# Set default region for AWS services (London in this case).\n",
        "%env AWS_DEFAULT_REGION=eu-central-1\n",
        "# Set AWS user (restricted to using AWS Translate only).\n",
        "%env AWS_ACCESS_KEY_ID=\n",
        "%env AWS_SECRET_ACCESS_KEY="
      ]
    },
    {
      "cell_type": "markdown",
      "metadata": {
        "id": "4Trn081zhfbM"
      },
      "source": [
        "## Evaluation"
      ]
    },
    {
      "cell_type": "code",
      "execution_count": 16,
      "metadata": {
        "id": "lYEWNv-eyVMF"
      },
      "outputs": [
        {
          "name": "stdout",
          "output_type": "stream",
          "text": [
            "ARG=i\n",
            "ARG=d\n",
            "ARG=o\n",
            "ARG=v\n",
            "INITIAL PASS \n",
            "expected target length = source length * 1.05745\n",
            "ITERATION 1\n",
            "  log_e likelihood: -90457.1\n",
            "  log_2 likelihood: -130502\n",
            "     cross entropy: 29.8974\n",
            "        perplexity: 1e+09\n",
            "      posterior p0: 0.08\n",
            " posterior al-feat: -0.172751\n",
            "       size counts: 75\n",
            "ITERATION 2\n",
            "  log_e likelihood: -20118.6\n",
            "  log_2 likelihood: -29024.9\n",
            "     cross entropy: 6.64947\n",
            "        perplexity: 100.39\n",
            "      posterior p0: 0.0433982\n",
            " posterior al-feat: -0.0953962\n",
            "       size counts: 75\n",
            "  1  model al-feat: -0.162961 (tension=4)\n",
            "  2  model al-feat: -0.134813 (tension=5.3513)\n",
            "  3  model al-feat: -0.121809 (tension=6.13962)\n",
            "  4  model al-feat: -0.114235 (tension=6.66789)\n",
            "  5  model al-feat: -0.109316 (tension=7.04467)\n",
            "  6  model al-feat: -0.105915 (tension=7.32307)\n",
            "  7  model al-feat: -0.103467 (tension=7.53345)\n",
            "  8  model al-feat: -0.101656 (tension=7.69487)\n",
            "     final tension: 7.82006\n",
            "ITERATION 3\n",
            "  log_e likelihood: -10951.3\n",
            "  log_2 likelihood: -15799.4\n",
            "     cross entropy: 3.61958\n",
            "        perplexity: 12.2914\n",
            "      posterior p0: 0.0333187\n",
            " posterior al-feat: -0.0785388\n",
            "       size counts: 75\n",
            "  1  model al-feat: -0.10029 (tension=7.82006)\n",
            "  2  model al-feat: -0.095789 (tension=8.25508)\n",
            "  3  model al-feat: -0.0924711 (tension=8.60009)\n",
            "  4  model al-feat: -0.0899398 (tension=8.87873)\n",
            "  5  model al-feat: -0.0879603 (tension=9.10675)\n",
            "  6  model al-feat: -0.0863835 (tension=9.29519)\n",
            "  7  model al-feat: -0.0851093 (tension=9.45208)\n",
            "  8  model al-feat: -0.0840683 (tension=9.58349)\n",
            "     final tension: 9.69408\n",
            "ITERATION 4\n",
            "  log_e likelihood: -9461.18\n",
            "  log_2 likelihood: -13649.6\n",
            "     cross entropy: 3.12705\n",
            "        perplexity: 8.7365\n",
            "      posterior p0: 0.0353452\n",
            " posterior al-feat: -0.07436\n",
            "       size counts: 75\n",
            "  1  model al-feat: -0.08321 (tension=9.69408)\n",
            "  2  model al-feat: -0.0818692 (tension=9.87108)\n",
            "  3  model al-feat: -0.0807622 (tension=10.0213)\n",
            "  4  model al-feat: -0.0798398 (tension=10.1493)\n",
            "  5  model al-feat: -0.0790655 (tension=10.2589)\n",
            "  6  model al-feat: -0.0784115 (tension=10.353)\n",
            "  7  model al-feat: -0.0778563 (tension=10.434)\n",
            "  8  model al-feat: -0.0773829 (tension=10.504)\n",
            "     final tension: 10.5644\n",
            "ITERATION 5 (FINAL)\n",
            "  log_e likelihood: -9003.35\n",
            "  log_2 likelihood: -12989.1\n",
            "     cross entropy: 2.97574\n",
            "        perplexity: 7.86659\n",
            "      posterior p0: 0\n",
            " posterior al-feat: 0\n",
            "       size counts: 75\n",
            "308it [00:00, 703619.63it/s]\n",
            "308it [00:00, 750.97it/s]\n",
            "INFO:root:DONE\n",
            "Output file: /mnt/d/Libraries/University/bachelorarbeit/mt_gender_german/src/../output/systran/es/de/20230719-111455.txt\n"
          ]
        }
      ],
      "source": [
        "# for lang in ['es', 'it', 'fr', 'uk', 'ru']:\n",
        "#      for model in ['deepl', 'bing', 'google', 'systran', 'aws']:\n",
        "#          evaluate_language(source='de', stereotype='none', destination=lang, translator=model)\n",
        "#          evaluate_language(source='de_anti', stereotype='anti', destination=lang, translator=model)\n",
        "#          evaluate_language(source='de_pro', stereotype='pro', destination=lang, translator=model)\n",
        "#          evaluate_language(source='de_anti_wmt', stereotype='anti_wmt',destination=lang, translator=model)\n",
        "#          evaluate_language(source='de_pro_wmt', stereotype='pro_wmt', destination=lang, translator=model)\n",
        "\n",
        "# for lang in ['ar', 'he']:\n",
        "#      for model in ['bing', 'google', 'systran', 'aws']:\n",
        "#          evaluate_language(source='de', stereotype='none', destination=lang, translator=model)\n",
        "#          evaluate_language(source='de_anti', stereotype='anti', destination=lang, translator=model)\n",
        "#          evaluate_language(source='de_pro', stereotype='pro', destination=lang, translator=model)\n",
        "#          evaluate_language(source='de_anti_wmt', stereotype='anti_wmt',destination=lang, translator=model)\n",
        "#          evaluate_language(source='de_pro_wmt', stereotype='pro_wmt', destination=lang, translator=model)\n",
        "\n",
        "evaluate_language(source='de', stereotype='none', destination='es', translator='systran')"
      ]
    },
    {
      "cell_type": "code",
      "execution_count": null,
      "metadata": {},
      "outputs": [],
      "source": []
    }
  ],
  "metadata": {
    "colab": {
      "collapsed_sections": [],
      "name": "GenderBias",
      "provenance": []
    },
    "kernelspec": {
      "display_name": "Python 3",
      "name": "python3"
    },
    "language_info": {
      "codemirror_mode": {
        "name": "ipython",
        "version": 3
      },
      "file_extension": ".py",
      "mimetype": "text/x-python",
      "name": "python",
      "nbconvert_exporter": "python",
      "pygments_lexer": "ipython3",
      "version": "3.8.12"
    }
  },
  "nbformat": 4,
  "nbformat_minor": 0
}
