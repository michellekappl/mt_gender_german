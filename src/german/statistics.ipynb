{
 "cells": [
  {
   "cell_type": "code",
   "execution_count": null,
   "metadata": {},
   "outputs": [],
   "source": [
    "import pandas as pd\n",
    "import numpy as np\n",
    "\n",
    "for mt in ['aws', 'bing', 'deepl', 'google', 'systran']:\n",
    "    for lang in ['ar', 'es', 'fr', 'he', 'it', 'ru', 'uk']:\n",
    "        for stereo in ['de', 'de_anti', 'de_anti_wmt', 'de_pro', 'de_pro_wmt']:\n",
    "             "
   ]
  },
  {
   "cell_type": "code",
   "execution_count": null,
   "metadata": {},
   "outputs": [],
   "source": []
  }
 ],
 "metadata": {
  "language_info": {
   "name": "python"
  },
  "orig_nbformat": 4
 },
 "nbformat": 4,
 "nbformat_minor": 2
}
