{
  "cells": [
    {
      "cell_type": "markdown",
      "metadata": {
        "id": "xNPl-jbMWoxU"
      },
      "source": [
        "# Google Drive setup\n",
        "The script below creates a subdirectory on your Google Drive, which is populated with various Git repositories that we need.\n",
        "\n",
        "Note that you need to change `gender_bias_dir` based on if we use our fork (which works with NL input) or the original repository (which works with EN input)."
      ]
    },
    {
      "cell_type": "code",
      "execution_count": null,
      "metadata": {
        "id": "rEErf7Hd8LDn"
      },
      "outputs": [],
      "source": [
        "import os\n",
        "\n",
        "root_dir = 'PATH_ROOT/bachelorarbeit'\n",
        "gender_bias_dir = 'PATH_ROOT/mt_gender_german'\n",
        "\n",
        "os.chdir(root_dir)\n",
        "# Auto install the required git repositories:\n",
        "# fast_align module required in the evaluations\n",
        "!git clone https://github.com/clab/fast_align.git\n",
        "\n",
        "fast_align_dir = root_dir + '/fast_align';"
      ]
    },
    {
      "cell_type": "code",
      "execution_count": null,
      "metadata": {
        "id": "slULddpK9y6x"
      },
      "outputs": [],
      "source": [
        "# List the contents of both projects to see if it worked.\n",
        "print(gender_bias_dir, fast_align_dir)\n",
        "!ls {gender_bias_dir} -al\n",
        "!ls {fast_align_dir} -al"
      ]
    },
    {
      "cell_type": "markdown",
      "metadata": {
        "id": "pWgBHvuKWtu-"
      },
      "source": [
        "# Functions"
      ]
    },
    {
      "cell_type": "code",
      "execution_count": null,
      "metadata": {
        "id": "xF0EMN4CSPNl"
      },
      "outputs": [],
      "source": [
        "import os\n",
        "import time\n",
        "from IPython import get_ipython\n",
        "ipython = get_ipython()\n",
        "\n",
        "def evaluate_language(source, stereotype, destination, translator):\n",
        "  \"\"\" Run a bash evaluation script from the repo to determine gender bias in the source file compared to the destination.\n",
        "\n",
        "  For example evaluating 'en to 'es' with translator 'google' looks like:\n",
        "  1. It translates the input file first if it does not exist yet, which creates /translations/google/en-es.txt.\n",
        "  2. It then tries to align the translated file using fast_align, which creates /src/forward/en-es.align. I believe the alignment process\n",
        "  is about mapping words from one language to another.\n",
        "  3. The alignments are evaluated, and the output is stored in /output/en-es.txt.\n",
        "\n",
        "  :param str source: The input, which is a language file from the /data/aggregates folder, e.g. use \"en\" for the \"en.txt\" file.\n",
        "  :param str destination: A language file from the /data/aggregates folder, e.g. use \"en\" for the \"en.txt\" file.\n",
        "  :param str translator: One of \"google\", \"bing\", \"aws\", \"sota\", \"systran\".\n",
        "  \"\"\"\n",
        "\n",
        "  timestamp = time.strftime(\"%Y%m%d-%H%M%S\");\n",
        "\n",
        "  # Define the source file to be a txt file in the aggregates folder.\n",
        "  source_file = '/data/aggregates/' + source + '.txt';\n",
        "  # Define the output file to be in the \"output\" directory in the root of the GenderBias project.\n",
        "  os.chdir(gender_bias_dir)\n",
        "  exec(ipython.transform_cell('!mkdir -p output'))\n",
        "  os.chdir(gender_bias_dir + '/output')\n",
        "  exec(ipython.transform_cell('!mkdir -p ' + translator))\n",
        "  os.chdir(gender_bias_dir + '/output/' + translator)\n",
        "  exec(ipython.transform_cell('!mkdir -p ' + destination))\n",
        "  os.chdir(gender_bias_dir + '/output/' + translator + '/' + destination)\n",
        "  exec(ipython.transform_cell('!mkdir -p ' + source))\n",
        "\n",
        "\n",
        "  output_file = '../output/' + translator + '/' + destination + '/' +  source + '/' + timestamp + '.txt'\n",
        "\n",
        "  os.chdir(gender_bias_dir + '/src')\n",
        "\n",
        "  # Execute script from the repo.\n",
        "  exec(ipython.transform_cell('!../scripts/evaluate_language.sh {gender_bias_dir}{source_file} {stereotype} {destination} {translator} > {output_file}'))\n",
        "\n",
        "\n",
        "  print('Output file: ' + gender_bias_dir + '/src/' + output_file);\n",
        "  pass"
      ]
    },
    {
      "cell_type": "markdown",
      "metadata": {
        "id": "Yyn_SdhChDnW"
      },
      "source": [
        "## Setup API keys\n",
        "If you are going to evaluate a language pair that has no translations yet (like `/translations/google/en-es.txt` etc), you need to add an API key for the given service. \n",
        "\n",
        "After a translation task, the output is automatically saved in the project folder so it does not need to be ran again (unless you remove it)."
      ]
    },
    {
      "cell_type": "code",
      "execution_count": null,
      "metadata": {
        "id": "oCVxaPBya6cE"
      },
      "outputs": [],
      "source": [
        "# Set default region for AWS services (London in this case).\n",
        "%env AWS_DEFAULT_REGION=eu-central-1\n",
        "# Set AWS user (restricted to using AWS Translate only).\n",
        "%env AWS_ACCESS_KEY_ID=\n",
        "%env AWS_SECRET_ACCESS_KEY="
      ]
    },
    {
      "cell_type": "markdown",
      "metadata": {
        "id": "4Trn081zhfbM"
      },
      "source": [
        "## Evaluation"
      ]
    },
    {
      "cell_type": "code",
      "execution_count": 29,
      "metadata": {
        "id": "lYEWNv-eyVMF"
      },
      "outputs": [
        {
          "name": "stdout",
          "output_type": "stream",
          "text": [
            "ARG=i\n",
            "ARG=d\n",
            "ARG=o\n",
            "ARG=v\n",
            "INITIAL PASS \n",
            "expected target length = source length * 1.03797\n",
            "ITERATION 1\n",
            "  log_e likelihood: -88695.6\n",
            "  log_2 likelihood: -127961\n",
            "     cross entropy: 29.8974\n",
            "        perplexity: 1e+09\n",
            "      posterior p0: 0.08\n",
            " posterior al-feat: -0.173144\n",
            "       size counts: 78\n",
            "ITERATION 2\n",
            "  log_e likelihood: -20350.7\n",
            "  log_2 likelihood: -29359.8\n",
            "     cross entropy: 6.85978\n",
            "        perplexity: 116.144\n",
            "      posterior p0: 0.0476997\n",
            " posterior al-feat: -0.100356\n",
            "       size counts: 78\n",
            "  1  model al-feat: -0.166045 (tension=4)\n",
            "  2  model al-feat: -0.138052 (tension=5.31378)\n",
            "  3  model al-feat: -0.125251 (tension=6.0677)\n",
            "  4  model al-feat: -0.117859 (tension=6.56561)\n",
            "  5  model al-feat: -0.113102 (tension=6.91567)\n",
            "  6  model al-feat: -0.109846 (tension=7.1706)\n",
            "  7  model al-feat: -0.107528 (tension=7.3604)\n",
            "  8  model al-feat: -0.105833 (tension=7.50385)\n",
            "     final tension: 7.61339\n",
            "ITERATION 3\n",
            "  log_e likelihood: -11392.2\n",
            "  log_2 likelihood: -16435.4\n",
            "     cross entropy: 3.84005\n",
            "        perplexity: 14.3209\n",
            "      posterior p0: 0.0373725\n",
            " posterior al-feat: -0.0839019\n",
            "       size counts: 78\n",
            "  1  model al-feat: -0.104571 (tension=7.61339)\n",
            "  2  model al-feat: -0.100041 (tension=8.02677)\n",
            "  3  model al-feat: -0.0967447 (tension=8.34956)\n",
            "  4  model al-feat: -0.0942593 (tension=8.60641)\n",
            "  5  model al-feat: -0.0923383 (tension=8.81356)\n",
            "  6  model al-feat: -0.0908256 (tension=8.98229)\n",
            "  7  model al-feat: -0.0896177 (tension=9.12076)\n",
            "  8  model al-feat: -0.0886425 (tension=9.23508)\n",
            "     final tension: 9.32989\n",
            "ITERATION 4\n",
            "  log_e likelihood: -9863.22\n",
            "  log_2 likelihood: -14229.6\n",
            "     cross entropy: 3.32468\n",
            "        perplexity: 10.0191\n",
            "      posterior p0: 0.038736\n",
            " posterior al-feat: -0.0799774\n",
            "       size counts: 78\n",
            "  1  model al-feat: -0.0878483 (tension=9.32989)\n",
            "  2  model al-feat: -0.0865582 (tension=9.48731)\n",
            "  3  model al-feat: -0.0855061 (tension=9.61893)\n",
            "  4  model al-feat: -0.0846401 (tension=9.7295)\n",
            "  5  model al-feat: -0.0839223 (tension=9.82276)\n",
            "  6  model al-feat: -0.0833236 (tension=9.90166)\n",
            "  7  model al-feat: -0.082822 (tension=9.96858)\n",
            "  8  model al-feat: -0.0823999 (tension=10.0255)\n",
            "     final tension: 10.0739\n",
            "ITERATION 5 (FINAL)\n",
            "  log_e likelihood: -9410.74\n",
            "  log_2 likelihood: -13576.8\n",
            "     cross entropy: 3.17215\n",
            "        perplexity: 9.01392\n",
            "      posterior p0: 0\n",
            " posterior al-feat: 0\n",
            "       size counts: 78\n",
            "308it [00:00, 650148.78it/s]\n",
            "308it [00:00, 798.09it/s]\n",
            "INFO:root:DONE\n",
            "Output file: /mnt/d/Libraries/University/bachelorarbeit/mt_gender_german/src/../output/deepl/es/de/20230718-141144.txt\n"
          ]
        }
      ],
      "source": [
        "for lang in ['es', 'it', 'fr', 'uk', 'ru']:\n",
        "     for model in ['deepl', 'bing', 'google', 'systran', 'aws']:\n",
        "         evaluate_language(source='de', stereotype='none', destination=lang, translator=model)\n",
        "         evaluate_language(source='de_anti', stereotype='anti', destination=lang, translator=model)\n",
        "         evaluate_language(source='de_pro', stereotype='pro', destination=lang, translator=model)\n",
        "         evaluate_language(source='de_anti_wmt', stereotype='anti_wmt',destination=lang, translator=model)\n",
        "         evaluate_language(source='de_pro_wmt', stereotype='pro_wmt', destination=lang, translator=model)\n",
        "\n",
        "for lang in ['ar', 'he']:\n",
        "     for model in ['bing', 'google', 'systran', 'aws']:\n",
        "         evaluate_language(source='de', stereotype='none', destination=lang, translator=model)\n",
        "         evaluate_language(source='de_anti', stereotype='anti', destination=lang, translator=model)\n",
        "         evaluate_language(source='de_pro', stereotype='pro', destination=lang, translator=model)\n",
        "         evaluate_language(source='de_anti_wmt', stereotype='anti_wmt',destination=lang, translator=model)\n",
        "         evaluate_language(source='de_pro_wmt', stereotype='pro_wmt', destination=lang, translator=model)\n",
        "\n",
        "#evaluate_language(source='de', stereotype='none', destination='es', translator='deepl')\n"
      ]
    },
    {
      "cell_type": "code",
      "execution_count": null,
      "metadata": {},
      "outputs": [],
      "source": []
    }
  ],
  "metadata": {
    "colab": {
      "collapsed_sections": [],
      "name": "GenderBias",
      "provenance": []
    },
    "kernelspec": {
      "display_name": "Python 3",
      "name": "python3"
    },
    "language_info": {
      "codemirror_mode": {
        "name": "ipython",
        "version": 3
      },
      "file_extension": ".py",
      "mimetype": "text/x-python",
      "name": "python",
      "nbconvert_exporter": "python",
      "pygments_lexer": "ipython3",
      "version": "3.8.12"
    }
  },
  "nbformat": 4,
  "nbformat_minor": 0
}
